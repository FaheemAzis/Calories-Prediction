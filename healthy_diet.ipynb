{
 "cells": [
  {
   "cell_type": "code",
   "execution_count": 2,
   "metadata": {},
   "outputs": [],
   "source": [
    "import pandas as pd\n",
    "import numpy as np"
   ]
  },
  {
   "cell_type": "code",
   "execution_count": 3,
   "metadata": {},
   "outputs": [],
   "source": [
    "data = pd.read_csv('C:\\\\Users\\\\aineo\\\\OneDrive\\\\Desktop\\\\Calories-Prediction\\\\Healthy_Diet_Data.csv')"
   ]
  },
  {
   "cell_type": "code",
   "execution_count": 5,
   "metadata": {},
   "outputs": [],
   "source": [
    "data.columns = data.columns.str.replace('&', 'And')\n",
    "data.columns = data.columns.str.replace('- ', '')\n",
    "data.columns = data.columns.str.replace(',', '')\n",
    "data.columns = data.columns.str.replace(' ', '_')"
   ]
  },
  {
   "cell_type": "code",
   "execution_count": 6,
   "metadata": {},
   "outputs": [],
   "source": [
    "data['Grains'] = data.iloc[:,[5,13,14,15,16,17,18,19,20]].sum(axis=1)\n",
    "data['Vegetables_Sum'] = data.iloc[:,[21,22,23]].sum(axis=1)\n",
    "data['Fruits'] = data.iloc[:,[1,8]].sum(axis=1)\n",
    "data['Protein'] = data.iloc[:,[2,3,4,6,7,9,10,11,12]].sum(axis=1)"
   ]
  },
  {
   "cell_type": "code",
   "execution_count": 8,
   "metadata": {},
   "outputs": [],
   "source": [
    "data['Grains_25'] = data['Grains']/30*25\n",
    "data['Vegetables_Sum_25'] = data['Vegetables_Sum']/40*25\n",
    "data['Fruits_25'] = data['Fruits']/10*25\n",
    "data['Protein_25'] = data['Protein']/20*25"
   ]
  },
  {
   "cell_type": "code",
   "execution_count": 9,
   "metadata": {},
   "outputs": [],
   "source": [
    "data['Total_25'] = data[['Grains_25','Vegetables_Sum_25','Fruits_25','Protein_25']].sum(axis = 1)"
   ]
  },
  {
   "cell_type": "code",
   "execution_count": 10,
   "metadata": {},
   "outputs": [],
   "source": [
    "data.loc[data['Protein_25'] == data[['Grains_25','Vegetables_Sum_25','Fruits_25','Protein_25']].max(axis = 1), 'Max_of_4'] = 'p'\n",
    "data.loc[data['Vegetables_Sum_25'] == data[['Grains_25','Vegetables_Sum_25','Fruits_25','Protein_25']].max(axis = 1), 'Max_of_4'] = 'v'\n",
    "data.loc[data['Fruits_25'] == data[['Grains_25','Vegetables_Sum_25','Fruits_25','Protein_25']].max(axis = 1), 'Max_of_4'] = 'f'\n",
    "data.loc[data['Grains_25'] == data[['Grains_25','Vegetables_Sum_25','Fruits_25','Protein_25']].max(axis = 1), 'Max_of_4'] = 'g'"
   ]
  },
  {
   "cell_type": "code",
   "execution_count": 11,
   "metadata": {},
   "outputs": [],
   "source": [
    "data.loc[data['Protein_25'] == data[['Grains_25','Vegetables_Sum_25','Fruits_25','Protein_25']].min(axis = 1), 'Min_of_4'] = 'p'\n",
    "data.loc[data['Vegetables_Sum_25'] == data[['Grains_25','Vegetables_Sum_25','Fruits_25','Protein_25']].min(axis = 1), 'Min_of_4'] = 'v'\n",
    "data.loc[data['Fruits_25'] == data[['Grains_25','Vegetables_Sum_25','Fruits_25','Protein_25']].min(axis = 1), 'Min_of_4'] = 'f'\n",
    "data.loc[data['Grains_25'] == data[['Grains_25','Vegetables_Sum_25','Fruits_25','Protein_25']].min(axis = 1), 'Min_of_4'] = 'g'"
   ]
  },
  {
   "cell_type": "code",
   "execution_count": 13,
   "metadata": {},
   "outputs": [],
   "source": [
    "data.loc[data[['Grains_25','Vegetables_Sum_25','Fruits_25','Protein_25']].max(axis = 1)>35, 'Healthy_Or_Not'] = 0\n",
    "data.loc[data[['Grains_25','Vegetables_Sum_25','Fruits_25','Protein_25']].min(axis = 1)<15, 'Healthy_Or_Not'] = 0\n",
    "data['Healthy_Or_Not'] = data['Healthy_Or_Not'].fillna(1)\n"
   ]
  },
  {
   "cell_type": "code",
   "execution_count": 14,
   "metadata": {},
   "outputs": [],
   "source": [
    "data['Deaths_rate'] = (data['Deaths']/data['Confirmed'])*100\n",
    "data['Recovered_rate'] = (data['Recovered']/data['Confirmed'])*100\n",
    "data['Active_rate'] = (data['Active']/data['Confirmed'])*100\n"
   ]
  },
  {
   "cell_type": "code",
   "execution_count": 15,
   "metadata": {},
   "outputs": [],
   "source": [
    "data['Total_rate'] = data[['Deaths_rate','Recovered_rate','Active_rate']].sum(axis = 1)"
   ]
  },
  {
   "cell_type": "code",
   "execution_count": 16,
   "metadata": {},
   "outputs": [],
   "source": [
    "\n",
    "X = data.iloc[:,np.r_[36:40]]\n",
    "y = data['Healthy_Or_Not']\n"
   ]
  },
  {
   "cell_type": "code",
   "execution_count": 17,
   "metadata": {},
   "outputs": [],
   "source": [
    "from sklearn.model_selection import train_test_split\n",
    "from sklearn.ensemble import RandomForestClassifier\n",
    "from sklearn.metrics import confusion_matrix\n",
    "from sklearn.metrics import accuracy_score"
   ]
  },
  {
   "cell_type": "code",
   "execution_count": 18,
   "metadata": {},
   "outputs": [],
   "source": [
    "X_train, X_test, y_train, y_test = train_test_split(X,y,test_size = 0.3, random_state = 1)"
   ]
  },
  {
   "cell_type": "code",
   "execution_count": 19,
   "metadata": {},
   "outputs": [],
   "source": [
    "classifier = RandomForestClassifier(n_estimators=25 , criterion= 'entropy',max_depth= 8, max_features='sqrt', random_state=0)\n",
    "classifier.fit(X_train,y_train)\n",
    "y_pred = classifier.predict(X_test)"
   ]
  },
  {
   "cell_type": "code",
   "execution_count": 20,
   "metadata": {},
   "outputs": [
    {
     "name": "stdout",
     "output_type": "stream",
     "text": [
      "confusion_matrix is :  [[42  2]\n",
      " [ 1  6]]\n"
     ]
    }
   ],
   "source": [
    "cm = confusion_matrix(y_test,y_pred)\n",
    "print('confusion_matrix is : ', cm)"
   ]
  },
  {
   "cell_type": "code",
   "execution_count": 21,
   "metadata": {},
   "outputs": [
    {
     "name": "stdout",
     "output_type": "stream",
     "text": [
      "accuracy_score :  0.9411764705882353\n"
     ]
    }
   ],
   "source": [
    "ac = accuracy_score(y_test,y_pred)\n",
    "print('accuracy_score : ', ac)"
   ]
  },
  {
   "cell_type": "code",
   "execution_count": 22,
   "metadata": {},
   "outputs": [],
   "source": [
    "# 30% grains, 40% vegetables, 10% fruits, and 20% protein\n",
    "def healthy_diet(grains, vegetables, fruits, protein):\n",
    "    grains_diet = (grains/30)*25\n",
    "    vegetables_diet = (vegetables/40)*25\n",
    "    fruits_diet = (fruits/10)*25\n",
    "    protein_diet = (protein/20)*25\n",
    "\n",
    "    output = classifier.predict([[grains_diet,vegetables_diet,fruits_diet,protein_diet]])\n",
    "\n",
    "    if(output == 1):\n",
    "        print('Healthy')\n",
    "        return 'Following a Healthy'\n",
    "    else:\n",
    "        print('Not Healthy')\n",
    "        return 'Not Following a Healthy'\n"
   ]
  },
  {
   "cell_type": "code",
   "execution_count": null,
   "metadata": {},
   "outputs": [],
   "source": [
    "import pickle\n",
    "\n",
    "# Define or import the variable model_2 before using it\n",
    "model_2 = ...\n",
    "\n",
    "with open('healthy_calories','wb') as f:\n",
    "    pickle.dump(model_2,f)\n"
   ]
  }
 ],
 "metadata": {
  "kernelspec": {
   "display_name": "env",
   "language": "python",
   "name": "python3"
  },
  "language_info": {
   "codemirror_mode": {
    "name": "ipython",
    "version": 3
   },
   "file_extension": ".py",
   "mimetype": "text/x-python",
   "name": "python",
   "nbconvert_exporter": "python",
   "pygments_lexer": "ipython3",
   "version": "3.11.4"
  }
 },
 "nbformat": 4,
 "nbformat_minor": 2
}
